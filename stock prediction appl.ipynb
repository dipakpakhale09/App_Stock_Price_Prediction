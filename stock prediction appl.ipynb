{
 "cells": [
  {
   "cell_type": "code",
   "execution_count": 1,
   "id": "c1fb11a3",
   "metadata": {},
   "outputs": [],
   "source": [
    "import os\n",
    "import numpy as np\n",
    "import pandas as pd\n",
    "import matplotlib.pyplot as plt\n",
    "from statsmodels.tsa.api import ExponentialSmoothing, SimpleExpSmoothing, Holt"
   ]
  },
  {
   "cell_type": "code",
   "execution_count": 2,
   "id": "196aed45",
   "metadata": {},
   "outputs": [
    {
     "data": {
      "text/html": [
       "<div>\n",
       "<style scoped>\n",
       "    .dataframe tbody tr th:only-of-type {\n",
       "        vertical-align: middle;\n",
       "    }\n",
       "\n",
       "    .dataframe tbody tr th {\n",
       "        vertical-align: top;\n",
       "    }\n",
       "\n",
       "    .dataframe thead th {\n",
       "        text-align: right;\n",
       "    }\n",
       "</style>\n",
       "<table border=\"1\" class=\"dataframe\">\n",
       "  <thead>\n",
       "    <tr style=\"text-align: right;\">\n",
       "      <th></th>\n",
       "      <th>Unnamed: 0</th>\n",
       "      <th>1. open</th>\n",
       "      <th>2. high</th>\n",
       "      <th>3. low</th>\n",
       "      <th>4. close</th>\n",
       "      <th>5. adjusted close</th>\n",
       "      <th>6. volume</th>\n",
       "      <th>7. dividend amount</th>\n",
       "      <th>8. split coefficient</th>\n",
       "    </tr>\n",
       "  </thead>\n",
       "  <tbody>\n",
       "    <tr>\n",
       "      <th>0</th>\n",
       "      <td>1999-11-01</td>\n",
       "      <td>80.000</td>\n",
       "      <td>80.6900</td>\n",
       "      <td>77.37</td>\n",
       "      <td>77.62</td>\n",
       "      <td>0.589041</td>\n",
       "      <td>2487300</td>\n",
       "      <td>0.0</td>\n",
       "      <td>1.0</td>\n",
       "    </tr>\n",
       "    <tr>\n",
       "      <th>1</th>\n",
       "      <td>1999-11-02</td>\n",
       "      <td>78.000</td>\n",
       "      <td>81.6900</td>\n",
       "      <td>77.31</td>\n",
       "      <td>80.25</td>\n",
       "      <td>0.608999</td>\n",
       "      <td>3564600</td>\n",
       "      <td>0.0</td>\n",
       "      <td>1.0</td>\n",
       "    </tr>\n",
       "    <tr>\n",
       "      <th>2</th>\n",
       "      <td>1999-11-03</td>\n",
       "      <td>81.620</td>\n",
       "      <td>83.2500</td>\n",
       "      <td>81.00</td>\n",
       "      <td>81.50</td>\n",
       "      <td>0.618485</td>\n",
       "      <td>2932700</td>\n",
       "      <td>0.0</td>\n",
       "      <td>1.0</td>\n",
       "    </tr>\n",
       "    <tr>\n",
       "      <th>3</th>\n",
       "      <td>1999-11-04</td>\n",
       "      <td>82.060</td>\n",
       "      <td>85.3700</td>\n",
       "      <td>80.62</td>\n",
       "      <td>83.62</td>\n",
       "      <td>0.634574</td>\n",
       "      <td>3384700</td>\n",
       "      <td>0.0</td>\n",
       "      <td>1.0</td>\n",
       "    </tr>\n",
       "    <tr>\n",
       "      <th>4</th>\n",
       "      <td>1999-11-05</td>\n",
       "      <td>84.620</td>\n",
       "      <td>88.3700</td>\n",
       "      <td>84.00</td>\n",
       "      <td>88.31</td>\n",
       "      <td>0.670165</td>\n",
       "      <td>3721500</td>\n",
       "      <td>0.0</td>\n",
       "      <td>1.0</td>\n",
       "    </tr>\n",
       "    <tr>\n",
       "      <th>...</th>\n",
       "      <td>...</td>\n",
       "      <td>...</td>\n",
       "      <td>...</td>\n",
       "      <td>...</td>\n",
       "      <td>...</td>\n",
       "      <td>...</td>\n",
       "      <td>...</td>\n",
       "      <td>...</td>\n",
       "      <td>...</td>\n",
       "    </tr>\n",
       "    <tr>\n",
       "      <th>5891</th>\n",
       "      <td>2023-03-31</td>\n",
       "      <td>162.440</td>\n",
       "      <td>165.0000</td>\n",
       "      <td>161.91</td>\n",
       "      <td>164.90</td>\n",
       "      <td>164.900000</td>\n",
       "      <td>68749792</td>\n",
       "      <td>0.0</td>\n",
       "      <td>1.0</td>\n",
       "    </tr>\n",
       "    <tr>\n",
       "      <th>5892</th>\n",
       "      <td>2023-04-03</td>\n",
       "      <td>164.270</td>\n",
       "      <td>166.2900</td>\n",
       "      <td>164.22</td>\n",
       "      <td>166.17</td>\n",
       "      <td>166.170000</td>\n",
       "      <td>56976187</td>\n",
       "      <td>0.0</td>\n",
       "      <td>1.0</td>\n",
       "    </tr>\n",
       "    <tr>\n",
       "      <th>5893</th>\n",
       "      <td>2023-04-04</td>\n",
       "      <td>166.595</td>\n",
       "      <td>166.8400</td>\n",
       "      <td>165.11</td>\n",
       "      <td>165.63</td>\n",
       "      <td>165.630000</td>\n",
       "      <td>46278295</td>\n",
       "      <td>0.0</td>\n",
       "      <td>1.0</td>\n",
       "    </tr>\n",
       "    <tr>\n",
       "      <th>5894</th>\n",
       "      <td>2023-04-05</td>\n",
       "      <td>164.740</td>\n",
       "      <td>165.0500</td>\n",
       "      <td>161.80</td>\n",
       "      <td>163.76</td>\n",
       "      <td>163.760000</td>\n",
       "      <td>51511744</td>\n",
       "      <td>0.0</td>\n",
       "      <td>1.0</td>\n",
       "    </tr>\n",
       "    <tr>\n",
       "      <th>5895</th>\n",
       "      <td>2023-04-06</td>\n",
       "      <td>162.430</td>\n",
       "      <td>164.9584</td>\n",
       "      <td>162.00</td>\n",
       "      <td>164.66</td>\n",
       "      <td>164.660000</td>\n",
       "      <td>45390123</td>\n",
       "      <td>0.0</td>\n",
       "      <td>1.0</td>\n",
       "    </tr>\n",
       "  </tbody>\n",
       "</table>\n",
       "<p>5896 rows × 9 columns</p>\n",
       "</div>"
      ],
      "text/plain": [
       "      Unnamed: 0  1. open   2. high  3. low  4. close  5. adjusted close  \\\n",
       "0     1999-11-01   80.000   80.6900   77.37     77.62           0.589041   \n",
       "1     1999-11-02   78.000   81.6900   77.31     80.25           0.608999   \n",
       "2     1999-11-03   81.620   83.2500   81.00     81.50           0.618485   \n",
       "3     1999-11-04   82.060   85.3700   80.62     83.62           0.634574   \n",
       "4     1999-11-05   84.620   88.3700   84.00     88.31           0.670165   \n",
       "...          ...      ...       ...     ...       ...                ...   \n",
       "5891  2023-03-31  162.440  165.0000  161.91    164.90         164.900000   \n",
       "5892  2023-04-03  164.270  166.2900  164.22    166.17         166.170000   \n",
       "5893  2023-04-04  166.595  166.8400  165.11    165.63         165.630000   \n",
       "5894  2023-04-05  164.740  165.0500  161.80    163.76         163.760000   \n",
       "5895  2023-04-06  162.430  164.9584  162.00    164.66         164.660000   \n",
       "\n",
       "      6. volume  7. dividend amount  8. split coefficient  \n",
       "0       2487300                 0.0                   1.0  \n",
       "1       3564600                 0.0                   1.0  \n",
       "2       2932700                 0.0                   1.0  \n",
       "3       3384700                 0.0                   1.0  \n",
       "4       3721500                 0.0                   1.0  \n",
       "...         ...                 ...                   ...  \n",
       "5891   68749792                 0.0                   1.0  \n",
       "5892   56976187                 0.0                   1.0  \n",
       "5893   46278295                 0.0                   1.0  \n",
       "5894   51511744                 0.0                   1.0  \n",
       "5895   45390123                 0.0                   1.0  \n",
       "\n",
       "[5896 rows x 9 columns]"
      ]
     },
     "execution_count": 2,
     "metadata": {},
     "output_type": "execute_result"
    }
   ],
   "source": [
    "data=pd.read_csv(r\"C:\\Users\\rajer\\AAPL_stock_prices.csv\")\n",
    "data"
   ]
  },
  {
   "cell_type": "code",
   "execution_count": 3,
   "id": "5410cbf0",
   "metadata": {},
   "outputs": [],
   "source": [
    "data.drop(data.columns[[2,3,4,5,6,7,8]],axis = 1 ,inplace = True)"
   ]
  },
  {
   "cell_type": "code",
   "execution_count": 4,
   "id": "a589f1af",
   "metadata": {},
   "outputs": [
    {
     "data": {
      "text/html": [
       "<div>\n",
       "<style scoped>\n",
       "    .dataframe tbody tr th:only-of-type {\n",
       "        vertical-align: middle;\n",
       "    }\n",
       "\n",
       "    .dataframe tbody tr th {\n",
       "        vertical-align: top;\n",
       "    }\n",
       "\n",
       "    .dataframe thead th {\n",
       "        text-align: right;\n",
       "    }\n",
       "</style>\n",
       "<table border=\"1\" class=\"dataframe\">\n",
       "  <thead>\n",
       "    <tr style=\"text-align: right;\">\n",
       "      <th></th>\n",
       "      <th>Unnamed: 0</th>\n",
       "      <th>1. open</th>\n",
       "    </tr>\n",
       "  </thead>\n",
       "  <tbody>\n",
       "    <tr>\n",
       "      <th>0</th>\n",
       "      <td>1999-11-01</td>\n",
       "      <td>80.000</td>\n",
       "    </tr>\n",
       "    <tr>\n",
       "      <th>1</th>\n",
       "      <td>1999-11-02</td>\n",
       "      <td>78.000</td>\n",
       "    </tr>\n",
       "    <tr>\n",
       "      <th>2</th>\n",
       "      <td>1999-11-03</td>\n",
       "      <td>81.620</td>\n",
       "    </tr>\n",
       "    <tr>\n",
       "      <th>3</th>\n",
       "      <td>1999-11-04</td>\n",
       "      <td>82.060</td>\n",
       "    </tr>\n",
       "    <tr>\n",
       "      <th>4</th>\n",
       "      <td>1999-11-05</td>\n",
       "      <td>84.620</td>\n",
       "    </tr>\n",
       "    <tr>\n",
       "      <th>...</th>\n",
       "      <td>...</td>\n",
       "      <td>...</td>\n",
       "    </tr>\n",
       "    <tr>\n",
       "      <th>5891</th>\n",
       "      <td>2023-03-31</td>\n",
       "      <td>162.440</td>\n",
       "    </tr>\n",
       "    <tr>\n",
       "      <th>5892</th>\n",
       "      <td>2023-04-03</td>\n",
       "      <td>164.270</td>\n",
       "    </tr>\n",
       "    <tr>\n",
       "      <th>5893</th>\n",
       "      <td>2023-04-04</td>\n",
       "      <td>166.595</td>\n",
       "    </tr>\n",
       "    <tr>\n",
       "      <th>5894</th>\n",
       "      <td>2023-04-05</td>\n",
       "      <td>164.740</td>\n",
       "    </tr>\n",
       "    <tr>\n",
       "      <th>5895</th>\n",
       "      <td>2023-04-06</td>\n",
       "      <td>162.430</td>\n",
       "    </tr>\n",
       "  </tbody>\n",
       "</table>\n",
       "<p>5896 rows × 2 columns</p>\n",
       "</div>"
      ],
      "text/plain": [
       "      Unnamed: 0  1. open\n",
       "0     1999-11-01   80.000\n",
       "1     1999-11-02   78.000\n",
       "2     1999-11-03   81.620\n",
       "3     1999-11-04   82.060\n",
       "4     1999-11-05   84.620\n",
       "...          ...      ...\n",
       "5891  2023-03-31  162.440\n",
       "5892  2023-04-03  164.270\n",
       "5893  2023-04-04  166.595\n",
       "5894  2023-04-05  164.740\n",
       "5895  2023-04-06  162.430\n",
       "\n",
       "[5896 rows x 2 columns]"
      ]
     },
     "execution_count": 4,
     "metadata": {},
     "output_type": "execute_result"
    }
   ],
   "source": [
    "data"
   ]
  },
  {
   "cell_type": "code",
   "execution_count": 5,
   "id": "2d144b18",
   "metadata": {},
   "outputs": [],
   "source": [
    "data.columns = ['Date','Open']"
   ]
  },
  {
   "cell_type": "code",
   "execution_count": 6,
   "id": "863cb44d",
   "metadata": {
    "scrolled": false
   },
   "outputs": [
    {
     "data": {
      "text/html": [
       "<div>\n",
       "<style scoped>\n",
       "    .dataframe tbody tr th:only-of-type {\n",
       "        vertical-align: middle;\n",
       "    }\n",
       "\n",
       "    .dataframe tbody tr th {\n",
       "        vertical-align: top;\n",
       "    }\n",
       "\n",
       "    .dataframe thead th {\n",
       "        text-align: right;\n",
       "    }\n",
       "</style>\n",
       "<table border=\"1\" class=\"dataframe\">\n",
       "  <thead>\n",
       "    <tr style=\"text-align: right;\">\n",
       "      <th></th>\n",
       "      <th>Date</th>\n",
       "      <th>Open</th>\n",
       "    </tr>\n",
       "  </thead>\n",
       "  <tbody>\n",
       "    <tr>\n",
       "      <th>0</th>\n",
       "      <td>1999-11-01</td>\n",
       "      <td>80.000</td>\n",
       "    </tr>\n",
       "    <tr>\n",
       "      <th>1</th>\n",
       "      <td>1999-11-02</td>\n",
       "      <td>78.000</td>\n",
       "    </tr>\n",
       "    <tr>\n",
       "      <th>2</th>\n",
       "      <td>1999-11-03</td>\n",
       "      <td>81.620</td>\n",
       "    </tr>\n",
       "    <tr>\n",
       "      <th>3</th>\n",
       "      <td>1999-11-04</td>\n",
       "      <td>82.060</td>\n",
       "    </tr>\n",
       "    <tr>\n",
       "      <th>4</th>\n",
       "      <td>1999-11-05</td>\n",
       "      <td>84.620</td>\n",
       "    </tr>\n",
       "    <tr>\n",
       "      <th>...</th>\n",
       "      <td>...</td>\n",
       "      <td>...</td>\n",
       "    </tr>\n",
       "    <tr>\n",
       "      <th>5891</th>\n",
       "      <td>2023-03-31</td>\n",
       "      <td>162.440</td>\n",
       "    </tr>\n",
       "    <tr>\n",
       "      <th>5892</th>\n",
       "      <td>2023-04-03</td>\n",
       "      <td>164.270</td>\n",
       "    </tr>\n",
       "    <tr>\n",
       "      <th>5893</th>\n",
       "      <td>2023-04-04</td>\n",
       "      <td>166.595</td>\n",
       "    </tr>\n",
       "    <tr>\n",
       "      <th>5894</th>\n",
       "      <td>2023-04-05</td>\n",
       "      <td>164.740</td>\n",
       "    </tr>\n",
       "    <tr>\n",
       "      <th>5895</th>\n",
       "      <td>2023-04-06</td>\n",
       "      <td>162.430</td>\n",
       "    </tr>\n",
       "  </tbody>\n",
       "</table>\n",
       "<p>5896 rows × 2 columns</p>\n",
       "</div>"
      ],
      "text/plain": [
       "            Date     Open\n",
       "0     1999-11-01   80.000\n",
       "1     1999-11-02   78.000\n",
       "2     1999-11-03   81.620\n",
       "3     1999-11-04   82.060\n",
       "4     1999-11-05   84.620\n",
       "...          ...      ...\n",
       "5891  2023-03-31  162.440\n",
       "5892  2023-04-03  164.270\n",
       "5893  2023-04-04  166.595\n",
       "5894  2023-04-05  164.740\n",
       "5895  2023-04-06  162.430\n",
       "\n",
       "[5896 rows x 2 columns]"
      ]
     },
     "execution_count": 6,
     "metadata": {},
     "output_type": "execute_result"
    }
   ],
   "source": [
    "data"
   ]
  },
  {
   "cell_type": "code",
   "execution_count": 7,
   "id": "6873c4e9",
   "metadata": {},
   "outputs": [
    {
     "data": {
      "image/png": "[encoded data removed]",
      "text/plain": [
       "<Figure size 1500x300 with 1 Axes>"
      ]
     },
     "metadata": {},
     "output_type": "display_data"
    }
   ],
   "source": [
    "data.plot.line(x = 'Date',y = 'Open',figsize=(15,3))\n",
    "plt.show()  # Pattern = Random"
   ]
  },
  {
   "cell_type": "code",
   "execution_count": 8,
   "id": "51d48828",
   "metadata": {},
   "outputs": [
    {
     "data": {
      "text/html": [
       "<div>\n",
       "<style scoped>\n",
       "    .dataframe tbody tr th:only-of-type {\n",
       "        vertical-align: middle;\n",
       "    }\n",
       "\n",
       "    .dataframe tbody tr th {\n",
       "        vertical-align: top;\n",
       "    }\n",
       "\n",
       "    .dataframe thead th {\n",
       "        text-align: right;\n",
       "    }\n",
       "</style>\n",
       "<table border=\"1\" class=\"dataframe\">\n",
       "  <thead>\n",
       "    <tr style=\"text-align: right;\">\n",
       "      <th></th>\n",
       "      <th>Date</th>\n",
       "      <th>Open</th>\n",
       "    </tr>\n",
       "  </thead>\n",
       "  <tbody>\n",
       "    <tr>\n",
       "      <th>0</th>\n",
       "      <td>1999-11-01</td>\n",
       "      <td>80.00</td>\n",
       "    </tr>\n",
       "    <tr>\n",
       "      <th>1</th>\n",
       "      <td>1999-11-02</td>\n",
       "      <td>78.00</td>\n",
       "    </tr>\n",
       "    <tr>\n",
       "      <th>2</th>\n",
       "      <td>1999-11-03</td>\n",
       "      <td>81.62</td>\n",
       "    </tr>\n",
       "    <tr>\n",
       "      <th>3</th>\n",
       "      <td>1999-11-04</td>\n",
       "      <td>82.06</td>\n",
       "    </tr>\n",
       "    <tr>\n",
       "      <th>4</th>\n",
       "      <td>1999-11-05</td>\n",
       "      <td>84.62</td>\n",
       "    </tr>\n",
       "    <tr>\n",
       "      <th>...</th>\n",
       "      <td>...</td>\n",
       "      <td>...</td>\n",
       "    </tr>\n",
       "    <tr>\n",
       "      <th>5281</th>\n",
       "      <td>2020-10-27</td>\n",
       "      <td>115.49</td>\n",
       "    </tr>\n",
       "    <tr>\n",
       "      <th>5282</th>\n",
       "      <td>2020-10-28</td>\n",
       "      <td>115.05</td>\n",
       "    </tr>\n",
       "    <tr>\n",
       "      <th>5283</th>\n",
       "      <td>2020-10-29</td>\n",
       "      <td>112.37</td>\n",
       "    </tr>\n",
       "    <tr>\n",
       "      <th>5284</th>\n",
       "      <td>2020-10-30</td>\n",
       "      <td>111.06</td>\n",
       "    </tr>\n",
       "    <tr>\n",
       "      <th>5285</th>\n",
       "      <td>2020-11-02</td>\n",
       "      <td>109.11</td>\n",
       "    </tr>\n",
       "  </tbody>\n",
       "</table>\n",
       "<p>5286 rows × 2 columns</p>\n",
       "</div>"
      ],
      "text/plain": [
       "            Date    Open\n",
       "0     1999-11-01   80.00\n",
       "1     1999-11-02   78.00\n",
       "2     1999-11-03   81.62\n",
       "3     1999-11-04   82.06\n",
       "4     1999-11-05   84.62\n",
       "...          ...     ...\n",
       "5281  2020-10-27  115.49\n",
       "5282  2020-10-28  115.05\n",
       "5283  2020-10-29  112.37\n",
       "5284  2020-10-30  111.06\n",
       "5285  2020-11-02  109.11\n",
       "\n",
       "[5286 rows x 2 columns]"
      ]
     },
     "metadata": {},
     "output_type": "display_data"
    }
   ],
   "source": [
    "df4 = pd.DataFrame(data)\n",
    "start_date = '1999-11-00'\n",
    "end_date = '2020-11-02'\n",
    "mask = (df4['Date'] > start_date) & (df4['Date'] <= end_date)\n",
    "  \n",
    "df4 = df4.loc[mask]\n",
    "display(df4)"
   ]
  },
  {
   "cell_type": "code",
   "execution_count": 9,
   "id": "cf844110",
   "metadata": {},
   "outputs": [
    {
     "data": {
      "text/html": [
       "<div>\n",
       "<style scoped>\n",
       "    .dataframe tbody tr th:only-of-type {\n",
       "        vertical-align: middle;\n",
       "    }\n",
       "\n",
       "    .dataframe tbody tr th {\n",
       "        vertical-align: top;\n",
       "    }\n",
       "\n",
       "    .dataframe thead th {\n",
       "        text-align: right;\n",
       "    }\n",
       "</style>\n",
       "<table border=\"1\" class=\"dataframe\">\n",
       "  <thead>\n",
       "    <tr style=\"text-align: right;\">\n",
       "      <th></th>\n",
       "      <th>Open</th>\n",
       "    </tr>\n",
       "    <tr>\n",
       "      <th>Date</th>\n",
       "      <th></th>\n",
       "    </tr>\n",
       "  </thead>\n",
       "  <tbody>\n",
       "    <tr>\n",
       "      <th>1999-11-01</th>\n",
       "      <td>80.00</td>\n",
       "    </tr>\n",
       "    <tr>\n",
       "      <th>1999-11-02</th>\n",
       "      <td>78.00</td>\n",
       "    </tr>\n",
       "    <tr>\n",
       "      <th>1999-11-03</th>\n",
       "      <td>81.62</td>\n",
       "    </tr>\n",
       "    <tr>\n",
       "      <th>1999-11-04</th>\n",
       "      <td>82.06</td>\n",
       "    </tr>\n",
       "    <tr>\n",
       "      <th>1999-11-05</th>\n",
       "      <td>84.62</td>\n",
       "    </tr>\n",
       "    <tr>\n",
       "      <th>...</th>\n",
       "      <td>...</td>\n",
       "    </tr>\n",
       "    <tr>\n",
       "      <th>2020-10-27</th>\n",
       "      <td>115.49</td>\n",
       "    </tr>\n",
       "    <tr>\n",
       "      <th>2020-10-28</th>\n",
       "      <td>115.05</td>\n",
       "    </tr>\n",
       "    <tr>\n",
       "      <th>2020-10-29</th>\n",
       "      <td>112.37</td>\n",
       "    </tr>\n",
       "    <tr>\n",
       "      <th>2020-10-30</th>\n",
       "      <td>111.06</td>\n",
       "    </tr>\n",
       "    <tr>\n",
       "      <th>2020-11-02</th>\n",
       "      <td>109.11</td>\n",
       "    </tr>\n",
       "  </tbody>\n",
       "</table>\n",
       "<p>5286 rows × 1 columns</p>\n",
       "</div>"
      ],
      "text/plain": [
       "              Open\n",
       "Date              \n",
       "1999-11-01   80.00\n",
       "1999-11-02   78.00\n",
       "1999-11-03   81.62\n",
       "1999-11-04   82.06\n",
       "1999-11-05   84.62\n",
       "...            ...\n",
       "2020-10-27  115.49\n",
       "2020-10-28  115.05\n",
       "2020-10-29  112.37\n",
       "2020-10-30  111.06\n",
       "2020-11-02  109.11\n",
       "\n",
       "[5286 rows x 1 columns]"
      ]
     },
     "execution_count": 9,
     "metadata": {},
     "output_type": "execute_result"
    }
   ],
   "source": [
    "data2 = df4.set_index(\"Date\")\n",
    "data2"
   ]
  },
  {
   "cell_type": "code",
   "execution_count": 10,
   "id": "c2e7f131",
   "metadata": {},
   "outputs": [
    {
     "name": "stderr",
     "output_type": "stream",
     "text": [
      "C:\\Users\\rajer\\anaconda3\\lib\\site-packages\\statsmodels\\tsa\\base\\tsa_model.py:471: ValueWarning: A date index has been provided, but it has no associated frequency information and so will be ignored when e.g. forecasting.\n",
      "  self._init_dates(dates, freq)\n"
     ]
    },
    {
     "data": {
      "text/plain": [
       "{'smoothing_level': 0.9596250996737639,\n",
       " 'smoothing_trend': 0.00014393090583262696,\n",
       " 'smoothing_seasonal': 0.03229916055568921,\n",
       " 'damping_trend': nan,\n",
       " 'initial_level': 87.10574021406974,\n",
       " 'initial_trend': 0.36568936126962515,\n",
       " 'initial_seasons': array([1.05009904, 1.056335  , 1.0735678 , 1.06154796, 1.05584779,\n",
       "        1.01769165, 1.03657891, 1.05302699, 1.06064034, 1.05768969,\n",
       "        1.06159383, 1.05135113]),\n",
       " 'use_boxcox': False,\n",
       " 'lamda': None,\n",
       " 'remove_bias': False}"
      ]
     },
     "execution_count": 10,
     "metadata": {},
     "output_type": "execute_result"
    }
   ],
   "source": [
    "model2 = ExponentialSmoothing(data2,trend='add',seasonal='mul',seasonal_periods=12).fit()\n",
    "model2.params\n",
    "          # initial_seasons=np.array([0.88,0.93,1.04,1.02,0.96,1.07,1.17,1.17,1.07,0.94,0.82,0.93]))"
   ]
  },
  {
   "cell_type": "code",
   "execution_count": 11,
   "id": "b7ffb499",
   "metadata": {},
   "outputs": [
    {
     "data": {
      "text/plain": [
       "Date\n",
       "1999-11-01     91.853664\n",
       "1999-11-02     81.341152\n",
       "1999-11-03     79.800022\n",
       "1999-11-04     81.019837\n",
       "1999-11-05     81.961988\n",
       "                 ...    \n",
       "2020-10-27    113.697553\n",
       "2020-10-28    115.214767\n",
       "2020-10-29    115.944086\n",
       "2020-10-30    112.846831\n",
       "2020-11-02    109.750040\n",
       "Length: 5286, dtype: float64"
      ]
     },
     "execution_count": 11,
     "metadata": {},
     "output_type": "execute_result"
    }
   ],
   "source": [
    "model2.fittedvalues"
   ]
  },
  {
   "cell_type": "code",
   "execution_count": 12,
   "id": "ca3e996f",
   "metadata": {},
   "outputs": [
    {
     "name": "stderr",
     "output_type": "stream",
     "text": [
      "C:\\Users\\rajer\\anaconda3\\lib\\site-packages\\statsmodels\\tsa\\base\\tsa_model.py:834: ValueWarning: No supported index is available. Prediction results will be given with an integer index beginning at `start`.\n",
      "  return get_prediction_index(\n"
     ]
    },
    {
     "data": {
      "text/plain": [
       "5286    109.874980\n",
       "5287    109.836785\n",
       "5288    110.448965\n",
       "5289    108.798468\n",
       "5290    111.229827\n",
       "5291    111.528847\n",
       "5292    111.825949\n",
       "5293    111.554857\n",
       "5294    111.301743\n",
       "5295    112.058314\n",
       "5296    112.444142\n",
       "5297    111.100436\n",
       "5298    111.849917\n",
       "5299    111.808084\n",
       "5300    112.428290\n",
       "5301    110.745307\n",
       "5302    113.217210\n",
       "5303    113.518609\n",
       "5304    113.818051\n",
       "5305    113.539183\n",
       "5306    113.278637\n",
       "5307    114.045704\n",
       "5308    114.435432\n",
       "5309    113.065031\n",
       "5310    113.824855\n",
       "5311    113.779382\n",
       "5312    114.407615\n",
       "5313    112.692146\n",
       "5314    115.204593\n",
       "dtype: float64"
      ]
     },
     "execution_count": 12,
     "metadata": {},
     "output_type": "execute_result"
    }
   ],
   "source": [
    "Forecast2 = model2.forecast(29)\n",
    "Forecast2"
   ]
  },
  {
   "cell_type": "code",
   "execution_count": 13,
   "id": "f02a09a3",
   "metadata": {},
   "outputs": [
    {
     "data": {
      "text/plain": [
       "<AxesSubplot:xlabel='Date'>"
      ]
     },
     "execution_count": 13,
     "metadata": {},
     "output_type": "execute_result"
    },
    {
     "data": {
      "image/png": "[encoded data removed]",
      "text/plain": [
       "<Figure size 1500x300 with 1 Axes>"
      ]
     },
     "metadata": {},
     "output_type": "display_data"
    }
   ],
   "source": [
    "# plot\n",
    "Forecast2.plot(marker='o', color='green')\n",
    "model2.fittedvalues.plot(marker='o',  color='blue',figsize=(15,3))"
   ]
  },
  {
   "cell_type": "code",
   "execution_count": 14,
   "id": "450feb9b",
   "metadata": {},
   "outputs": [
    {
     "data": {
      "text/html": [
       "<div>\n",
       "<style scoped>\n",
       "    .dataframe tbody tr th:only-of-type {\n",
       "        vertical-align: middle;\n",
       "    }\n",
       "\n",
       "    .dataframe tbody tr th {\n",
       "        vertical-align: top;\n",
       "    }\n",
       "\n",
       "    .dataframe thead th {\n",
       "        text-align: right;\n",
       "    }\n",
       "</style>\n",
       "<table border=\"1\" class=\"dataframe\">\n",
       "  <thead>\n",
       "    <tr style=\"text-align: right;\">\n",
       "      <th></th>\n",
       "      <th>Open</th>\n",
       "      <th>Forecast</th>\n",
       "    </tr>\n",
       "    <tr>\n",
       "      <th>Date</th>\n",
       "      <th></th>\n",
       "      <th></th>\n",
       "    </tr>\n",
       "  </thead>\n",
       "  <tbody>\n",
       "    <tr>\n",
       "      <th>1999-11-01</th>\n",
       "      <td>80.00</td>\n",
       "      <td>91.853664</td>\n",
       "    </tr>\n",
       "    <tr>\n",
       "      <th>1999-11-02</th>\n",
       "      <td>78.00</td>\n",
       "      <td>81.341152</td>\n",
       "    </tr>\n",
       "    <tr>\n",
       "      <th>1999-11-03</th>\n",
       "      <td>81.62</td>\n",
       "      <td>79.800022</td>\n",
       "    </tr>\n",
       "    <tr>\n",
       "      <th>1999-11-04</th>\n",
       "      <td>82.06</td>\n",
       "      <td>81.019837</td>\n",
       "    </tr>\n",
       "    <tr>\n",
       "      <th>1999-11-05</th>\n",
       "      <td>84.62</td>\n",
       "      <td>81.961988</td>\n",
       "    </tr>\n",
       "  </tbody>\n",
       "</table>\n",
       "</div>"
      ],
      "text/plain": [
       "             Open   Forecast\n",
       "Date                        \n",
       "1999-11-01  80.00  91.853664\n",
       "1999-11-02  78.00  81.341152\n",
       "1999-11-03  81.62  79.800022\n",
       "1999-11-04  82.06  81.019837\n",
       "1999-11-05  84.62  81.961988"
      ]
     },
     "execution_count": 14,
     "metadata": {},
     "output_type": "execute_result"
    }
   ],
   "source": [
    "data2[\"Forecast\"]=model2.fittedvalues\n",
    "data2.head()"
   ]
  },
  {
   "cell_type": "code",
   "execution_count": 15,
   "id": "671afbc6",
   "metadata": {},
   "outputs": [
    {
     "data": {
      "text/plain": [
       "2.1248857934541876"
      ]
     },
     "execution_count": 15,
     "metadata": {},
     "output_type": "execute_result"
    }
   ],
   "source": [
    "mean_absolute_percentage_error = np.mean(np.abs(data2.Open - data2.Forecast)/np.abs(data2.Open))*100\n",
    "mean_absolute_percentage_error"
   ]
  },
  {
   "cell_type": "markdown",
   "id": "4fd5f1a8",
   "metadata": {},
   "source": [
    "# Arima\n"
   ]
  },
  {
   "cell_type": "code",
   "execution_count": 16,
   "id": "07a5a251",
   "metadata": {},
   "outputs": [],
   "source": [
    "import pandas as pd\n",
    "import matplotlib.pyplot as plt\n",
    "from statsmodels.graphics.tsaplots import plot_acf, plot_pacf\n",
    "import warnings\n",
    "warnings.filterwarnings(\"ignore\")\n",
    "\n",
    "# !pip3 install pyramid-arima\n"
   ]
  },
  {
   "cell_type": "code",
   "execution_count": 17,
   "id": "a5fd7eb1",
   "metadata": {},
   "outputs": [],
   "source": [
    "df = pd.read_csv(r\"C:\\Users\\rajer\\AAPL_stock_prices.csv\")"
   ]
  },
  {
   "cell_type": "code",
   "execution_count": 18,
   "id": "3e2b17d6",
   "metadata": {},
   "outputs": [
    {
     "data": {
      "text/html": [
       "<div>\n",
       "<style scoped>\n",
       "    .dataframe tbody tr th:only-of-type {\n",
       "        vertical-align: middle;\n",
       "    }\n",
       "\n",
       "    .dataframe tbody tr th {\n",
       "        vertical-align: top;\n",
       "    }\n",
       "\n",
       "    .dataframe thead th {\n",
       "        text-align: right;\n",
       "    }\n",
       "</style>\n",
       "<table border=\"1\" class=\"dataframe\">\n",
       "  <thead>\n",
       "    <tr style=\"text-align: right;\">\n",
       "      <th></th>\n",
       "      <th>Unnamed: 0</th>\n",
       "      <th>1. open</th>\n",
       "      <th>2. high</th>\n",
       "      <th>3. low</th>\n",
       "      <th>4. close</th>\n",
       "      <th>5. adjusted close</th>\n",
       "      <th>6. volume</th>\n",
       "      <th>7. dividend amount</th>\n",
       "      <th>8. split coefficient</th>\n",
       "    </tr>\n",
       "  </thead>\n",
       "  <tbody>\n",
       "    <tr>\n",
       "      <th>0</th>\n",
       "      <td>1999-11-01</td>\n",
       "      <td>80.000</td>\n",
       "      <td>80.6900</td>\n",
       "      <td>77.37</td>\n",
       "      <td>77.62</td>\n",
       "      <td>0.589041</td>\n",
       "      <td>2487300</td>\n",
       "      <td>0.0</td>\n",
       "      <td>1.0</td>\n",
       "    </tr>\n",
       "    <tr>\n",
       "      <th>1</th>\n",
       "      <td>1999-11-02</td>\n",
       "      <td>78.000</td>\n",
       "      <td>81.6900</td>\n",
       "      <td>77.31</td>\n",
       "      <td>80.25</td>\n",
       "      <td>0.608999</td>\n",
       "      <td>3564600</td>\n",
       "      <td>0.0</td>\n",
       "      <td>1.0</td>\n",
       "    </tr>\n",
       "    <tr>\n",
       "      <th>2</th>\n",
       "      <td>1999-11-03</td>\n",
       "      <td>81.620</td>\n",
       "      <td>83.2500</td>\n",
       "      <td>81.00</td>\n",
       "      <td>81.50</td>\n",
       "      <td>0.618485</td>\n",
       "      <td>2932700</td>\n",
       "      <td>0.0</td>\n",
       "      <td>1.0</td>\n",
       "    </tr>\n",
       "    <tr>\n",
       "      <th>3</th>\n",
       "      <td>1999-11-04</td>\n",
       "      <td>82.060</td>\n",
       "      <td>85.3700</td>\n",
       "      <td>80.62</td>\n",
       "      <td>83.62</td>\n",
       "      <td>0.634574</td>\n",
       "      <td>3384700</td>\n",
       "      <td>0.0</td>\n",
       "      <td>1.0</td>\n",
       "    </tr>\n",
       "    <tr>\n",
       "      <th>4</th>\n",
       "      <td>1999-11-05</td>\n",
       "      <td>84.620</td>\n",
       "      <td>88.3700</td>\n",
       "      <td>84.00</td>\n",
       "      <td>88.31</td>\n",
       "      <td>0.670165</td>\n",
       "      <td>3721500</td>\n",
       "      <td>0.0</td>\n",
       "      <td>1.0</td>\n",
       "    </tr>\n",
       "    <tr>\n",
       "      <th>...</th>\n",
       "      <td>...</td>\n",
       "      <td>...</td>\n",
       "      <td>...</td>\n",
       "      <td>...</td>\n",
       "      <td>...</td>\n",
       "      <td>...</td>\n",
       "      <td>...</td>\n",
       "      <td>...</td>\n",
       "      <td>...</td>\n",
       "    </tr>\n",
       "    <tr>\n",
       "      <th>5891</th>\n",
       "      <td>2023-03-31</td>\n",
       "      <td>162.440</td>\n",
       "      <td>165.0000</td>\n",
       "      <td>161.91</td>\n",
       "      <td>164.90</td>\n",
       "      <td>164.900000</td>\n",
       "      <td>68749792</td>\n",
       "      <td>0.0</td>\n",
       "      <td>1.0</td>\n",
       "    </tr>\n",
       "    <tr>\n",
       "      <th>5892</th>\n",
       "      <td>2023-04-03</td>\n",
       "      <td>164.270</td>\n",
       "      <td>166.2900</td>\n",
       "      <td>164.22</td>\n",
       "      <td>166.17</td>\n",
       "      <td>166.170000</td>\n",
       "      <td>56976187</td>\n",
       "      <td>0.0</td>\n",
       "      <td>1.0</td>\n",
       "    </tr>\n",
       "    <tr>\n",
       "      <th>5893</th>\n",
       "      <td>2023-04-04</td>\n",
       "      <td>166.595</td>\n",
       "      <td>166.8400</td>\n",
       "      <td>165.11</td>\n",
       "      <td>165.63</td>\n",
       "      <td>165.630000</td>\n",
       "      <td>46278295</td>\n",
       "      <td>0.0</td>\n",
       "      <td>1.0</td>\n",
       "    </tr>\n",
       "    <tr>\n",
       "      <th>5894</th>\n",
       "      <td>2023-04-05</td>\n",
       "      <td>164.740</td>\n",
       "      <td>165.0500</td>\n",
       "      <td>161.80</td>\n",
       "      <td>163.76</td>\n",
       "      <td>163.760000</td>\n",
       "      <td>51511744</td>\n",
       "      <td>0.0</td>\n",
       "      <td>1.0</td>\n",
       "    </tr>\n",
       "    <tr>\n",
       "      <th>5895</th>\n",
       "      <td>2023-04-06</td>\n",
       "      <td>162.430</td>\n",
       "      <td>164.9584</td>\n",
       "      <td>162.00</td>\n",
       "      <td>164.66</td>\n",
       "      <td>164.660000</td>\n",
       "      <td>45390123</td>\n",
       "      <td>0.0</td>\n",
       "      <td>1.0</td>\n",
       "    </tr>\n",
       "  </tbody>\n",
       "</table>\n",
       "<p>5896 rows × 9 columns</p>\n",
       "</div>"
      ],
      "text/plain": [
       "      Unnamed: 0  1. open   2. high  3. low  4. close  5. adjusted close  \\\n",
       "0     1999-11-01   80.000   80.6900   77.37     77.62           0.589041   \n",
       "1     1999-11-02   78.000   81.6900   77.31     80.25           0.608999   \n",
       "2     1999-11-03   81.620   83.2500   81.00     81.50           0.618485   \n",
       "3     1999-11-04   82.060   85.3700   80.62     83.62           0.634574   \n",
       "4     1999-11-05   84.620   88.3700   84.00     88.31           0.670165   \n",
       "...          ...      ...       ...     ...       ...                ...   \n",
       "5891  2023-03-31  162.440  165.0000  161.91    164.90         164.900000   \n",
       "5892  2023-04-03  164.270  166.2900  164.22    166.17         166.170000   \n",
       "5893  2023-04-04  166.595  166.8400  165.11    165.63         165.630000   \n",
       "5894  2023-04-05  164.740  165.0500  161.80    163.76         163.760000   \n",
       "5895  2023-04-06  162.430  164.9584  162.00    164.66         164.660000   \n",
       "\n",
       "      6. volume  7. dividend amount  8. split coefficient  \n",
       "0       2487300                 0.0                   1.0  \n",
       "1       3564600                 0.0                   1.0  \n",
       "2       2932700                 0.0                   1.0  \n",
       "3       3384700                 0.0                   1.0  \n",
       "4       3721500                 0.0                   1.0  \n",
       "...         ...                 ...                   ...  \n",
       "5891   68749792                 0.0                   1.0  \n",
       "5892   56976187                 0.0                   1.0  \n",
       "5893   46278295                 0.0                   1.0  \n",
       "5894   51511744                 0.0                   1.0  \n",
       "5895   45390123                 0.0                   1.0  \n",
       "\n",
       "[5896 rows x 9 columns]"
      ]
     },
     "execution_count": 18,
     "metadata": {},
     "output_type": "execute_result"
    }
   ],
   "source": [
    "df"
   ]
  },
  {
   "cell_type": "code",
   "execution_count": 19,
   "id": "48b8ea3b",
   "metadata": {},
   "outputs": [],
   "source": [
    "df.drop(df.columns[[2,3,4,5,6,7,8]],axis = 1 ,inplace = True)"
   ]
  },
  {
   "cell_type": "code",
   "execution_count": 20,
   "id": "59069107",
   "metadata": {},
   "outputs": [
    {
     "data": {
      "text/html": [
       "<div>\n",
       "<style scoped>\n",
       "    .dataframe tbody tr th:only-of-type {\n",
       "        vertical-align: middle;\n",
       "    }\n",
       "\n",
       "    .dataframe tbody tr th {\n",
       "        vertical-align: top;\n",
       "    }\n",
       "\n",
       "    .dataframe thead th {\n",
       "        text-align: right;\n",
       "    }\n",
       "</style>\n",
       "<table border=\"1\" class=\"dataframe\">\n",
       "  <thead>\n",
       "    <tr style=\"text-align: right;\">\n",
       "      <th></th>\n",
       "      <th>Unnamed: 0</th>\n",
       "      <th>1. open</th>\n",
       "    </tr>\n",
       "  </thead>\n",
       "  <tbody>\n",
       "    <tr>\n",
       "      <th>0</th>\n",
       "      <td>1999-11-01</td>\n",
       "      <td>80.000</td>\n",
       "    </tr>\n",
       "    <tr>\n",
       "      <th>1</th>\n",
       "      <td>1999-11-02</td>\n",
       "      <td>78.000</td>\n",
       "    </tr>\n",
       "    <tr>\n",
       "      <th>2</th>\n",
       "      <td>1999-11-03</td>\n",
       "      <td>81.620</td>\n",
       "    </tr>\n",
       "    <tr>\n",
       "      <th>3</th>\n",
       "      <td>1999-11-04</td>\n",
       "      <td>82.060</td>\n",
       "    </tr>\n",
       "    <tr>\n",
       "      <th>4</th>\n",
       "      <td>1999-11-05</td>\n",
       "      <td>84.620</td>\n",
       "    </tr>\n",
       "    <tr>\n",
       "      <th>...</th>\n",
       "      <td>...</td>\n",
       "      <td>...</td>\n",
       "    </tr>\n",
       "    <tr>\n",
       "      <th>5891</th>\n",
       "      <td>2023-03-31</td>\n",
       "      <td>162.440</td>\n",
       "    </tr>\n",
       "    <tr>\n",
       "      <th>5892</th>\n",
       "      <td>2023-04-03</td>\n",
       "      <td>164.270</td>\n",
       "    </tr>\n",
       "    <tr>\n",
       "      <th>5893</th>\n",
       "      <td>2023-04-04</td>\n",
       "      <td>166.595</td>\n",
       "    </tr>\n",
       "    <tr>\n",
       "      <th>5894</th>\n",
       "      <td>2023-04-05</td>\n",
       "      <td>164.740</td>\n",
       "    </tr>\n",
       "    <tr>\n",
       "      <th>5895</th>\n",
       "      <td>2023-04-06</td>\n",
       "      <td>162.430</td>\n",
       "    </tr>\n",
       "  </tbody>\n",
       "</table>\n",
       "<p>5896 rows × 2 columns</p>\n",
       "</div>"
      ],
      "text/plain": [
       "      Unnamed: 0  1. open\n",
       "0     1999-11-01   80.000\n",
       "1     1999-11-02   78.000\n",
       "2     1999-11-03   81.620\n",
       "3     1999-11-04   82.060\n",
       "4     1999-11-05   84.620\n",
       "...          ...      ...\n",
       "5891  2023-03-31  162.440\n",
       "5892  2023-04-03  164.270\n",
       "5893  2023-04-04  166.595\n",
       "5894  2023-04-05  164.740\n",
       "5895  2023-04-06  162.430\n",
       "\n",
       "[5896 rows x 2 columns]"
      ]
     },
     "execution_count": 20,
     "metadata": {},
     "output_type": "execute_result"
    }
   ],
   "source": [
    "df"
   ]
  },
  {
   "cell_type": "code",
   "execution_count": 21,
   "id": "09088fed",
   "metadata": {},
   "outputs": [],
   "source": [
    "df.columns = ['Date','Open']"
   ]
  },
  {
   "cell_type": "code",
   "execution_count": 22,
   "id": "c06cbe3c",
   "metadata": {},
   "outputs": [
    {
     "data": {
      "text/html": [
       "<div>\n",
       "<style scoped>\n",
       "    .dataframe tbody tr th:only-of-type {\n",
       "        vertical-align: middle;\n",
       "    }\n",
       "\n",
       "    .dataframe tbody tr th {\n",
       "        vertical-align: top;\n",
       "    }\n",
       "\n",
       "    .dataframe thead th {\n",
       "        text-align: right;\n",
       "    }\n",
       "</style>\n",
       "<table border=\"1\" class=\"dataframe\">\n",
       "  <thead>\n",
       "    <tr style=\"text-align: right;\">\n",
       "      <th></th>\n",
       "      <th>Date</th>\n",
       "      <th>Open</th>\n",
       "    </tr>\n",
       "  </thead>\n",
       "  <tbody>\n",
       "    <tr>\n",
       "      <th>0</th>\n",
       "      <td>1999-11-01</td>\n",
       "      <td>80.000</td>\n",
       "    </tr>\n",
       "    <tr>\n",
       "      <th>1</th>\n",
       "      <td>1999-11-02</td>\n",
       "      <td>78.000</td>\n",
       "    </tr>\n",
       "    <tr>\n",
       "      <th>2</th>\n",
       "      <td>1999-11-03</td>\n",
       "      <td>81.620</td>\n",
       "    </tr>\n",
       "    <tr>\n",
       "      <th>3</th>\n",
       "      <td>1999-11-04</td>\n",
       "      <td>82.060</td>\n",
       "    </tr>\n",
       "    <tr>\n",
       "      <th>4</th>\n",
       "      <td>1999-11-05</td>\n",
       "      <td>84.620</td>\n",
       "    </tr>\n",
       "    <tr>\n",
       "      <th>...</th>\n",
       "      <td>...</td>\n",
       "      <td>...</td>\n",
       "    </tr>\n",
       "    <tr>\n",
       "      <th>5891</th>\n",
       "      <td>2023-03-31</td>\n",
       "      <td>162.440</td>\n",
       "    </tr>\n",
       "    <tr>\n",
       "      <th>5892</th>\n",
       "      <td>2023-04-03</td>\n",
       "      <td>164.270</td>\n",
       "    </tr>\n",
       "    <tr>\n",
       "      <th>5893</th>\n",
       "      <td>2023-04-04</td>\n",
       "      <td>166.595</td>\n",
       "    </tr>\n",
       "    <tr>\n",
       "      <th>5894</th>\n",
       "      <td>2023-04-05</td>\n",
       "      <td>164.740</td>\n",
       "    </tr>\n",
       "    <tr>\n",
       "      <th>5895</th>\n",
       "      <td>2023-04-06</td>\n",
       "      <td>162.430</td>\n",
       "    </tr>\n",
       "  </tbody>\n",
       "</table>\n",
       "<p>5896 rows × 2 columns</p>\n",
       "</div>"
      ],
      "text/plain": [
       "            Date     Open\n",
       "0     1999-11-01   80.000\n",
       "1     1999-11-02   78.000\n",
       "2     1999-11-03   81.620\n",
       "3     1999-11-04   82.060\n",
       "4     1999-11-05   84.620\n",
       "...          ...      ...\n",
       "5891  2023-03-31  162.440\n",
       "5892  2023-04-03  164.270\n",
       "5893  2023-04-04  166.595\n",
       "5894  2023-04-05  164.740\n",
       "5895  2023-04-06  162.430\n",
       "\n",
       "[5896 rows x 2 columns]"
      ]
     },
     "execution_count": 22,
     "metadata": {},
     "output_type": "execute_result"
    }
   ],
   "source": [
    "df"
   ]
  },
  {
   "cell_type": "code",
   "execution_count": 23,
   "id": "102ca0d4",
   "metadata": {},
   "outputs": [
    {
     "data": {
      "text/html": [
       "<div>\n",
       "<style scoped>\n",
       "    .dataframe tbody tr th:only-of-type {\n",
       "        vertical-align: middle;\n",
       "    }\n",
       "\n",
       "    .dataframe tbody tr th {\n",
       "        vertical-align: top;\n",
       "    }\n",
       "\n",
       "    .dataframe thead th {\n",
       "        text-align: right;\n",
       "    }\n",
       "</style>\n",
       "<table border=\"1\" class=\"dataframe\">\n",
       "  <thead>\n",
       "    <tr style=\"text-align: right;\">\n",
       "      <th></th>\n",
       "      <th>Date</th>\n",
       "      <th>Open</th>\n",
       "    </tr>\n",
       "  </thead>\n",
       "  <tbody>\n",
       "    <tr>\n",
       "      <th>0</th>\n",
       "      <td>1999-11-01</td>\n",
       "      <td>80.00</td>\n",
       "    </tr>\n",
       "    <tr>\n",
       "      <th>1</th>\n",
       "      <td>1999-11-02</td>\n",
       "      <td>78.00</td>\n",
       "    </tr>\n",
       "    <tr>\n",
       "      <th>2</th>\n",
       "      <td>1999-11-03</td>\n",
       "      <td>81.62</td>\n",
       "    </tr>\n",
       "    <tr>\n",
       "      <th>3</th>\n",
       "      <td>1999-11-04</td>\n",
       "      <td>82.06</td>\n",
       "    </tr>\n",
       "    <tr>\n",
       "      <th>4</th>\n",
       "      <td>1999-11-05</td>\n",
       "      <td>84.62</td>\n",
       "    </tr>\n",
       "    <tr>\n",
       "      <th>...</th>\n",
       "      <td>...</td>\n",
       "      <td>...</td>\n",
       "    </tr>\n",
       "    <tr>\n",
       "      <th>5281</th>\n",
       "      <td>2020-10-27</td>\n",
       "      <td>115.49</td>\n",
       "    </tr>\n",
       "    <tr>\n",
       "      <th>5282</th>\n",
       "      <td>2020-10-28</td>\n",
       "      <td>115.05</td>\n",
       "    </tr>\n",
       "    <tr>\n",
       "      <th>5283</th>\n",
       "      <td>2020-10-29</td>\n",
       "      <td>112.37</td>\n",
       "    </tr>\n",
       "    <tr>\n",
       "      <th>5284</th>\n",
       "      <td>2020-10-30</td>\n",
       "      <td>111.06</td>\n",
       "    </tr>\n",
       "    <tr>\n",
       "      <th>5285</th>\n",
       "      <td>2020-11-02</td>\n",
       "      <td>109.11</td>\n",
       "    </tr>\n",
       "  </tbody>\n",
       "</table>\n",
       "<p>5286 rows × 2 columns</p>\n",
       "</div>"
      ],
      "text/plain": [
       "            Date    Open\n",
       "0     1999-11-01   80.00\n",
       "1     1999-11-02   78.00\n",
       "2     1999-11-03   81.62\n",
       "3     1999-11-04   82.06\n",
       "4     1999-11-05   84.62\n",
       "...          ...     ...\n",
       "5281  2020-10-27  115.49\n",
       "5282  2020-10-28  115.05\n",
       "5283  2020-10-29  112.37\n",
       "5284  2020-10-30  111.06\n",
       "5285  2020-11-02  109.11\n",
       "\n",
       "[5286 rows x 2 columns]"
      ]
     },
     "metadata": {},
     "output_type": "display_data"
    }
   ],
   "source": [
    "df4 = pd.DataFrame(df)\n",
    "start_date = '1999-11-00'\n",
    "end_date = '2020-11-02'\n",
    "mask = (df4['Date'] > start_date) & (df4['Date'] <= end_date)\n",
    "  \n",
    "df4 = df4.loc[mask]\n",
    "display(df4)"
   ]
  },
  {
   "cell_type": "code",
   "execution_count": null,
   "id": "635f8d73",
   "metadata": {},
   "outputs": [],
   "source": []
  },
  {
   "cell_type": "code",
   "execution_count": 24,
   "id": "99a9df4d",
   "metadata": {},
   "outputs": [
    {
     "data": {
      "text/plain": [
       "<AxesSubplot:xlabel='Date'>"
      ]
     },
     "execution_count": 24,
     "metadata": {},
     "output_type": "execute_result"
    },
    {
     "data": {
      "image/png": "[encoded data removed]",
      "text/plain": [
       "<Figure size 1500x300 with 1 Axes>"
      ]
     },
     "metadata": {},
     "output_type": "display_data"
    }
   ],
   "source": [
    "df4.plot.line(x = 'Date',y = 'Open',figsize=(15,3))"
   ]
  },
  {
   "cell_type": "markdown",
   "id": "482d04b3",
   "metadata": {
    "id": "GDJRBYCwPc3H"
   },
   "source": [
    "# Stationary  -- ADF Test "
   ]
  },
  {
   "cell_type": "markdown",
   "id": "2b8cc398",
   "metadata": {
    "id": "BUvmexBjPc3I"
   },
   "source": [
    "* H0 : - The data is  non-stationary\n",
    "* H1 : - The data is  stationary\n",
    "\n",
    "* Alpha = 0.05 \n"
   ]
  },
  {
   "cell_type": "code",
   "execution_count": 25,
   "id": "a5309505",
   "metadata": {},
   "outputs": [
    {
     "data": {
      "text/plain": [
       "Test Statistic                   -2.362494\n",
       "p-value                           0.152603\n",
       "#lags used                        4.000000\n",
       "number of observations used    5281.000000\n",
       "dtype: float64"
      ]
     },
     "execution_count": 25,
     "metadata": {},
     "output_type": "execute_result"
    }
   ],
   "source": [
    "from statsmodels.tsa.stattools import adfuller\n",
    "dftest = adfuller(df4['Open'])\n",
    "dfoutput=pd.Series(dftest[0:4],index=['Test Statistic','p-value','#lags used','number of observations used'])\n",
    "dfoutput"
   ]
  },
  {
   "cell_type": "markdown",
   "id": "33a7f800",
   "metadata": {
    "id": "rxzxdm6cPc3J"
   },
   "source": [
    "* we do not Reject Ho\n",
    "* The data is  non-stationary"
   ]
  },
  {
   "cell_type": "markdown",
   "id": "f92b218b",
   "metadata": {
    "id": "we7x0VsNPc3J"
   },
   "source": [
    "# Differencing  ( d )"
   ]
  },
  {
   "cell_type": "code",
   "execution_count": 26,
   "id": "666b4036",
   "metadata": {},
   "outputs": [
    {
     "data": {
      "image/png": "[encoded data removed]",
      "text/plain": [
       "<Figure size 640x480 with 1 Axes>"
      ]
     },
     "metadata": {},
     "output_type": "display_data"
    }
   ],
   "source": [
    "from matplotlib import pyplot\n",
    "\n",
    "diff = df4.Open.diff()\n",
    "pyplot.plot(diff)\n",
    "pyplot.show()"
   ]
  },
  {
   "cell_type": "code",
   "execution_count": 27,
   "id": "ea33f2a5",
   "metadata": {},
   "outputs": [
    {
     "data": {
      "text/html": [
       "<div>\n",
       "<style scoped>\n",
       "    .dataframe tbody tr th:only-of-type {\n",
       "        vertical-align: middle;\n",
       "    }\n",
       "\n",
       "    .dataframe tbody tr th {\n",
       "        vertical-align: top;\n",
       "    }\n",
       "\n",
       "    .dataframe thead th {\n",
       "        text-align: right;\n",
       "    }\n",
       "</style>\n",
       "<table border=\"1\" class=\"dataframe\">\n",
       "  <thead>\n",
       "    <tr style=\"text-align: right;\">\n",
       "      <th></th>\n",
       "      <th>Date</th>\n",
       "      <th>Open</th>\n",
       "      <th>diff_1</th>\n",
       "      <th>diff_2</th>\n",
       "    </tr>\n",
       "  </thead>\n",
       "  <tbody>\n",
       "    <tr>\n",
       "      <th>0</th>\n",
       "      <td>1999-11-01</td>\n",
       "      <td>80.00</td>\n",
       "      <td>NaN</td>\n",
       "      <td>NaN</td>\n",
       "    </tr>\n",
       "    <tr>\n",
       "      <th>1</th>\n",
       "      <td>1999-11-02</td>\n",
       "      <td>78.00</td>\n",
       "      <td>-2.00</td>\n",
       "      <td>NaN</td>\n",
       "    </tr>\n",
       "    <tr>\n",
       "      <th>2</th>\n",
       "      <td>1999-11-03</td>\n",
       "      <td>81.62</td>\n",
       "      <td>3.62</td>\n",
       "      <td>1.62</td>\n",
       "    </tr>\n",
       "    <tr>\n",
       "      <th>3</th>\n",
       "      <td>1999-11-04</td>\n",
       "      <td>82.06</td>\n",
       "      <td>0.44</td>\n",
       "      <td>4.06</td>\n",
       "    </tr>\n",
       "    <tr>\n",
       "      <th>4</th>\n",
       "      <td>1999-11-05</td>\n",
       "      <td>84.62</td>\n",
       "      <td>2.56</td>\n",
       "      <td>3.00</td>\n",
       "    </tr>\n",
       "    <tr>\n",
       "      <th>...</th>\n",
       "      <td>...</td>\n",
       "      <td>...</td>\n",
       "      <td>...</td>\n",
       "      <td>...</td>\n",
       "    </tr>\n",
       "    <tr>\n",
       "      <th>5281</th>\n",
       "      <td>2020-10-27</td>\n",
       "      <td>115.49</td>\n",
       "      <td>1.48</td>\n",
       "      <td>-0.90</td>\n",
       "    </tr>\n",
       "    <tr>\n",
       "      <th>5282</th>\n",
       "      <td>2020-10-28</td>\n",
       "      <td>115.05</td>\n",
       "      <td>-0.44</td>\n",
       "      <td>1.04</td>\n",
       "    </tr>\n",
       "    <tr>\n",
       "      <th>5283</th>\n",
       "      <td>2020-10-29</td>\n",
       "      <td>112.37</td>\n",
       "      <td>-2.68</td>\n",
       "      <td>-3.12</td>\n",
       "    </tr>\n",
       "    <tr>\n",
       "      <th>5284</th>\n",
       "      <td>2020-10-30</td>\n",
       "      <td>111.06</td>\n",
       "      <td>-1.31</td>\n",
       "      <td>-3.99</td>\n",
       "    </tr>\n",
       "    <tr>\n",
       "      <th>5285</th>\n",
       "      <td>2020-11-02</td>\n",
       "      <td>109.11</td>\n",
       "      <td>-1.95</td>\n",
       "      <td>-3.26</td>\n",
       "    </tr>\n",
       "  </tbody>\n",
       "</table>\n",
       "<p>5286 rows × 4 columns</p>\n",
       "</div>"
      ],
      "text/plain": [
       "            Date    Open  diff_1  diff_2\n",
       "0     1999-11-01   80.00     NaN     NaN\n",
       "1     1999-11-02   78.00   -2.00     NaN\n",
       "2     1999-11-03   81.62    3.62    1.62\n",
       "3     1999-11-04   82.06    0.44    4.06\n",
       "4     1999-11-05   84.62    2.56    3.00\n",
       "...          ...     ...     ...     ...\n",
       "5281  2020-10-27  115.49    1.48   -0.90\n",
       "5282  2020-10-28  115.05   -0.44    1.04\n",
       "5283  2020-10-29  112.37   -2.68   -3.12\n",
       "5284  2020-10-30  111.06   -1.31   -3.99\n",
       "5285  2020-11-02  109.11   -1.95   -3.26\n",
       "\n",
       "[5286 rows x 4 columns]"
      ]
     },
     "execution_count": 27,
     "metadata": {},
     "output_type": "execute_result"
    }
   ],
   "source": [
    "df4['diff_1'] = df4['Open'].diff()\n",
    "df4['diff_2'] = df4['Open'].diff(periods=2)\n",
    "df4"
   ]
  },
  {
   "cell_type": "code",
   "execution_count": 28,
   "id": "82b4fe6b",
   "metadata": {},
   "outputs": [
    {
     "data": {
      "text/plain": [
       "Open      25551.091989\n",
       "diff_1      108.828891\n",
       "diff_2      212.388856\n",
       "dtype: float64"
      ]
     },
     "execution_count": 28,
     "metadata": {},
     "output_type": "execute_result"
    }
   ],
   "source": [
    "import numpy as np\n",
    "np.var(df4)  # d = 1"
   ]
  },
  {
   "cell_type": "code",
   "execution_count": 29,
   "id": "353a7363",
   "metadata": {},
   "outputs": [
    {
     "name": "stdout",
     "output_type": "stream",
     "text": [
      "Observations of Dickey-fuller test\n"
     ]
    },
    {
     "data": {
      "text/plain": [
       "Test Statistic                  -35.870363\n",
       "p-value                           0.000000\n",
       "#lags used                        3.000000\n",
       "number of observations used    5281.000000\n",
       "dtype: float64"
      ]
     },
     "execution_count": 29,
     "metadata": {},
     "output_type": "execute_result"
    }
   ],
   "source": [
    "from statsmodels.tsa.stattools import adfuller\n",
    "print(\"Observations of Dickey-fuller test\")\n",
    "dftest = adfuller(df4.diff_1.loc[1:,])\n",
    "dfoutput=pd.Series(dftest[0:4],index=['Test Statistic','p-value','#lags used','number of observations used'])\n",
    "dfoutput"
   ]
  },
  {
   "cell_type": "markdown",
   "id": "54bfe7eb",
   "metadata": {
    "id": "N2-4p1fpPc3M"
   },
   "source": [
    "\n",
    "\n",
    "```\n",
    "# This is formatted as code\n",
    "```\n",
    "\n",
    "* we Reject Ho\n",
    "* The data is stationary"
   ]
  },
  {
   "cell_type": "markdown",
   "id": "d8c2bed3",
   "metadata": {
    "id": "7h9Wt-AMPc3M"
   },
   "source": [
    "# ACF & PACF Plot"
   ]
  },
  {
   "cell_type": "code",
   "execution_count": 30,
   "id": "ff32c48f",
   "metadata": {},
   "outputs": [],
   "source": [
    "# ACF & PACF Plot"
   ]
  },
  {
   "cell_type": "code",
   "execution_count": 31,
   "id": "2183646d",
   "metadata": {},
   "outputs": [
    {
     "data": {
      "image/png": "[encoded data removed]",
      "text/plain": [
       "<Figure size 1800x1000 with 2 Axes>"
      ]
     },
     "metadata": {},
     "output_type": "display_data"
    },
    {
     "data": {
      "image/png": "[encoded data removed]",
      "text/plain": [
       "<Figure size 640x480 with 1 Axes>"
      ]
     },
     "metadata": {},
     "output_type": "display_data"
    },
    {
     "data": {
      "image/png": "[encoded data removed]",
      "text/plain": [
       "<Figure size 640x480 with 1 Axes>"
      ]
     },
     "metadata": {},
     "output_type": "display_data"
    }
   ],
   "source": [
    "ax = plt.subplots(nrows=2, ncols=1, figsize=(18, 10))\n",
    "plot_acf(df4['Open'] ,zero=False)\n",
    "plot_pacf(df4['Open'] ,zero=False)\n",
    "plt.show()"
   ]
  },
  {
   "cell_type": "markdown",
   "id": "b451f79e",
   "metadata": {
    "id": "sVGHm1ZAPc3N"
   },
   "source": [
    "# ARIMA MODEL -- Auto ( Grid Search )"
   ]
  },
  {
   "cell_type": "code",
   "execution_count": 32,
   "id": "77e03e23",
   "metadata": {},
   "outputs": [
    {
     "name": "stdout",
     "output_type": "stream",
     "text": [
      "Performing stepwise search to minimize aic\n",
      " ARIMA(0,0,0)(0,0,0)[0]             : AIC=72853.501, Time=0.05 sec\n",
      " ARIMA(1,0,0)(0,0,0)[0]             : AIC=inf, Time=0.10 sec\n",
      " ARIMA(0,0,1)(0,0,0)[0]             : AIC=65894.366, Time=0.39 sec\n",
      " ARIMA(1,0,1)(0,0,0)[0]             : AIC=39797.008, Time=0.25 sec\n",
      " ARIMA(2,0,1)(0,0,0)[0]             : AIC=39798.732, Time=0.56 sec\n",
      " ARIMA(1,0,2)(0,0,0)[0]             : AIC=39798.859, Time=0.37 sec\n",
      " ARIMA(0,0,2)(0,0,0)[0]             : AIC=60145.750, Time=1.05 sec\n",
      " ARIMA(2,0,0)(0,0,0)[0]             : AIC=inf, Time=0.16 sec\n",
      " ARIMA(2,0,2)(0,0,0)[0]             : AIC=39795.504, Time=2.21 sec\n",
      " ARIMA(3,0,2)(0,0,0)[0]             : AIC=39802.418, Time=1.54 sec\n",
      " ARIMA(2,0,3)(0,0,0)[0]             : AIC=39799.670, Time=1.26 sec\n",
      " ARIMA(1,0,3)(0,0,0)[0]             : AIC=39800.051, Time=0.43 sec\n",
      " ARIMA(3,0,1)(0,0,0)[0]             : AIC=39800.971, Time=0.90 sec\n",
      " ARIMA(3,0,3)(0,0,0)[0]             : AIC=39799.546, Time=2.89 sec\n",
      " ARIMA(2,0,2)(0,0,0)[0] intercept   : AIC=39793.850, Time=4.21 sec\n",
      " ARIMA(1,0,2)(0,0,0)[0] intercept   : AIC=39797.197, Time=0.86 sec\n",
      " ARIMA(2,0,1)(0,0,0)[0] intercept   : AIC=39797.158, Time=0.90 sec\n",
      " ARIMA(3,0,2)(0,0,0)[0] intercept   : AIC=39800.717, Time=3.52 sec\n",
      " ARIMA(2,0,3)(0,0,0)[0] intercept   : AIC=39798.411, Time=2.15 sec\n",
      " ARIMA(1,0,1)(0,0,0)[0] intercept   : AIC=39795.315, Time=0.45 sec\n",
      " ARIMA(1,0,3)(0,0,0)[0] intercept   : AIC=39798.455, Time=1.33 sec\n",
      " ARIMA(3,0,1)(0,0,0)[0] intercept   : AIC=39799.334, Time=1.74 sec\n",
      " ARIMA(3,0,3)(0,0,0)[0] intercept   : AIC=39797.779, Time=5.84 sec\n",
      "\n",
      "Best model:  ARIMA(2,0,2)(0,0,0)[0] intercept\n",
      "Total fit time: 33.140 seconds\n"
     ]
    }
   ],
   "source": [
    "from statsmodels.tsa.arima_model import ARIMA\n",
    "import pmdarima as pm\n",
    "model = pm.auto_arima(df4.Open,\n",
    "                      start_p=0,max_p=3, # Pacf(p) = 0,1,2,3\n",
    "                      d=0,max_d=2,       # Difference (d) = 0,1,2\n",
    "                      start_q=0,max_q=3, # acf (q) = 0,1,2,3\n",
    "                      m=12,              # frequency of series\n",
    "                      seasonal=False,    # No Seasonality  then below P,D,Q will not be used \n",
    "                      start_P=0,max_P=0,\n",
    "                      D=0,max_D=0,\n",
    "                      start_Q=0,max_Q=0,\n",
    "                      test='adf',       # use adftest to find optimal 'd'\n",
    "                      trace=True)"
   ]
  },
  {
   "cell_type": "markdown",
   "id": "9a3647a1",
   "metadata": {
    "id": "RexNBsMZPc3O"
   },
   "source": [
    "# Fitted Value"
   ]
  },
  {
   "cell_type": "code",
   "execution_count": 33,
   "id": "7649f9ca",
   "metadata": {},
   "outputs": [
    {
     "data": {
      "text/html": [
       "<div>\n",
       "<style scoped>\n",
       "    .dataframe tbody tr th:only-of-type {\n",
       "        vertical-align: middle;\n",
       "    }\n",
       "\n",
       "    .dataframe tbody tr th {\n",
       "        vertical-align: top;\n",
       "    }\n",
       "\n",
       "    .dataframe thead th {\n",
       "        text-align: right;\n",
       "    }\n",
       "</style>\n",
       "<table border=\"1\" class=\"dataframe\">\n",
       "  <thead>\n",
       "    <tr style=\"text-align: right;\">\n",
       "      <th></th>\n",
       "      <th>Date</th>\n",
       "      <th>Open</th>\n",
       "      <th>Forecast</th>\n",
       "    </tr>\n",
       "  </thead>\n",
       "  <tbody>\n",
       "    <tr>\n",
       "      <th>0</th>\n",
       "      <td>1999-11-01</td>\n",
       "      <td>80.00</td>\n",
       "      <td>164.189483</td>\n",
       "    </tr>\n",
       "    <tr>\n",
       "      <th>1</th>\n",
       "      <td>1999-11-02</td>\n",
       "      <td>78.00</td>\n",
       "      <td>80.190510</td>\n",
       "    </tr>\n",
       "    <tr>\n",
       "      <th>2</th>\n",
       "      <td>1999-11-03</td>\n",
       "      <td>81.62</td>\n",
       "      <td>78.238038</td>\n",
       "    </tr>\n",
       "    <tr>\n",
       "      <th>3</th>\n",
       "      <td>1999-11-04</td>\n",
       "      <td>82.06</td>\n",
       "      <td>81.706190</td>\n",
       "    </tr>\n",
       "    <tr>\n",
       "      <th>4</th>\n",
       "      <td>1999-11-05</td>\n",
       "      <td>84.62</td>\n",
       "      <td>82.263305</td>\n",
       "    </tr>\n",
       "    <tr>\n",
       "      <th>...</th>\n",
       "      <td>...</td>\n",
       "      <td>...</td>\n",
       "      <td>...</td>\n",
       "    </tr>\n",
       "    <tr>\n",
       "      <th>5281</th>\n",
       "      <td>2020-10-27</td>\n",
       "      <td>115.49</td>\n",
       "      <td>112.907799</td>\n",
       "    </tr>\n",
       "    <tr>\n",
       "      <th>5282</th>\n",
       "      <td>2020-10-28</td>\n",
       "      <td>115.05</td>\n",
       "      <td>116.800521</td>\n",
       "    </tr>\n",
       "    <tr>\n",
       "      <th>5283</th>\n",
       "      <td>2020-10-29</td>\n",
       "      <td>112.37</td>\n",
       "      <td>113.959954</td>\n",
       "    </tr>\n",
       "    <tr>\n",
       "      <th>5284</th>\n",
       "      <td>2020-10-30</td>\n",
       "      <td>111.06</td>\n",
       "      <td>113.732121</td>\n",
       "    </tr>\n",
       "    <tr>\n",
       "      <th>5285</th>\n",
       "      <td>2020-11-02</td>\n",
       "      <td>109.11</td>\n",
       "      <td>110.027240</td>\n",
       "    </tr>\n",
       "  </tbody>\n",
       "</table>\n",
       "<p>5286 rows × 3 columns</p>\n",
       "</div>"
      ],
      "text/plain": [
       "            Date    Open    Forecast\n",
       "0     1999-11-01   80.00  164.189483\n",
       "1     1999-11-02   78.00   80.190510\n",
       "2     1999-11-03   81.62   78.238038\n",
       "3     1999-11-04   82.06   81.706190\n",
       "4     1999-11-05   84.62   82.263305\n",
       "...          ...     ...         ...\n",
       "5281  2020-10-27  115.49  112.907799\n",
       "5282  2020-10-28  115.05  116.800521\n",
       "5283  2020-10-29  112.37  113.959954\n",
       "5284  2020-10-30  111.06  113.732121\n",
       "5285  2020-11-02  109.11  110.027240\n",
       "\n",
       "[5286 rows x 3 columns]"
      ]
     },
     "execution_count": 33,
     "metadata": {},
     "output_type": "execute_result"
    }
   ],
   "source": [
    "df4['Forecast']=model.predict_in_sample()\n",
    "df4.iloc[:,[0,1,4]]"
   ]
  },
  {
   "cell_type": "markdown",
   "id": "e835161e",
   "metadata": {
    "id": "5IcDilQWPc3P"
   },
   "source": [
    "# Model plot"
   ]
  },
  {
   "cell_type": "code",
   "execution_count": 34,
   "id": "4f66f0b6",
   "metadata": {},
   "outputs": [
    {
     "data": {
      "image/png": "[encoded data removed]",
      "text/plain": [
       "<Figure size 640x480 with 1 Axes>"
      ]
     },
     "metadata": {},
     "output_type": "display_data"
    }
   ],
   "source": [
    "# Plot\n",
    "plt.plot(df4.Open)\n",
    "plt.plot(df4.Forecast, color='darkgreen')\n",
    "plt.title(\"Actual vs Forecast fitted value\")\n",
    "plt.show()"
   ]
  },
  {
   "cell_type": "markdown",
   "id": "edba52b2",
   "metadata": {
    "id": "KDtr3nO5Pc3Q"
   },
   "source": [
    "# Accuracy metrics\n"
   ]
  },
  {
   "cell_type": "code",
   "execution_count": 35,
   "id": "b436296c",
   "metadata": {},
   "outputs": [
    {
     "data": {
      "text/plain": [
       "{'mape': 2.090152618638231}"
      ]
     },
     "execution_count": 35,
     "metadata": {},
     "output_type": "execute_result"
    }
   ],
   "source": [
    "def forecast_accuracy(actual,forecast):\n",
    "    mape = (np.mean(np.abs(actual-forecast)/np.abs(actual)))*100  # MAPE\n",
    "    return({'mape':mape})\n",
    "\n",
    "forecast_accuracy(df4.Open,df4.Forecast)"
   ]
  },
  {
   "cell_type": "markdown",
   "id": "1349dca7",
   "metadata": {
    "id": "3uLwSJJUPc3Q"
   },
   "source": [
    "#  Forecast - Future Month\n"
   ]
  },
  {
   "cell_type": "code",
   "execution_count": 36,
   "id": "0e11480d",
   "metadata": {},
   "outputs": [
    {
     "data": {
      "image/png": "[encoded data removed]",
      "text/plain": [
       "<Figure size 640x480 with 1 Axes>"
      ]
     },
     "metadata": {},
     "output_type": "display_data"
    }
   ],
   "source": [
    "n_periods=29\n",
    "fc = model.predict(n_periods=n_periods)\n",
    "index_of_fc = np.arange(len(df4.Open), len(df4.Open)+n_periods)\n",
    "\n",
    "# make series for plotting purpose\n",
    "fc_series = pd.Series(fc, index=index_of_fc)\n",
    "\n",
    "# Plot\n",
    "plt.plot(df4.Open)\n",
    "plt.plot(fc_series, color='darkgreen')\n",
    "plt.title(\"Final Forecast of WWW Usage\")\n",
    "plt.show()"
   ]
  },
  {
   "cell_type": "markdown",
   "id": "d91e331a",
   "metadata": {
    "id": "SD_3-pQgPc3R"
   },
   "source": [
    "# SARIMAX -- Auto ( Grid Search )"
   ]
  },
  {
   "cell_type": "code",
   "execution_count": 37,
   "id": "2e26f0db",
   "metadata": {},
   "outputs": [
    {
     "name": "stdout",
     "output_type": "stream",
     "text": [
      "Performing stepwise search to minimize aic\n",
      " ARIMA(0,0,0)(0,0,0)[12] intercept   : AIC=68649.647, Time=0.08 sec\n",
      " ARIMA(1,0,0)(1,0,0)[12] intercept   : AIC=inf, Time=3.96 sec\n",
      " ARIMA(0,0,1)(0,0,1)[12] intercept   : AIC=56667.463, Time=5.46 sec\n",
      " ARIMA(0,0,0)(0,0,0)[12]             : AIC=72853.501, Time=0.05 sec\n",
      " ARIMA(0,0,1)(0,0,0)[12] intercept   : AIC=61852.134, Time=0.92 sec\n",
      " ARIMA(0,0,1)(1,0,1)[12] intercept   : AIC=48593.365, Time=14.07 sec\n",
      " ARIMA(0,0,1)(1,0,0)[12] intercept   : AIC=47959.452, Time=9.74 sec\n",
      " ARIMA(0,0,1)(2,0,0)[12] intercept   : AIC=49574.015, Time=39.42 sec\n",
      " ARIMA(0,0,1)(2,0,1)[12] intercept   : AIC=inf, Time=36.60 sec\n",
      " ARIMA(0,0,0)(1,0,0)[12] intercept   : AIC=inf, Time=2.86 sec\n",
      " ARIMA(1,0,1)(1,0,0)[12] intercept   : AIC=39797.281, Time=4.90 sec\n",
      " ARIMA(1,0,1)(0,0,0)[12] intercept   : AIC=39795.315, Time=0.44 sec\n",
      " ARIMA(1,0,1)(0,0,1)[12] intercept   : AIC=39797.287, Time=3.31 sec\n",
      " ARIMA(1,0,1)(1,0,1)[12] intercept   : AIC=inf, Time=5.97 sec\n",
      " ARIMA(1,0,0)(0,0,0)[12] intercept   : AIC=inf, Time=0.17 sec\n",
      " ARIMA(2,0,1)(0,0,0)[12] intercept   : AIC=39797.158, Time=0.90 sec\n",
      " ARIMA(1,0,2)(0,0,0)[12] intercept   : AIC=39797.197, Time=0.82 sec\n",
      " ARIMA(0,0,2)(0,0,0)[12] intercept   : AIC=56522.715, Time=1.93 sec\n",
      " ARIMA(2,0,0)(0,0,0)[12] intercept   : AIC=inf, Time=0.51 sec\n",
      " ARIMA(2,0,2)(0,0,0)[12] intercept   : AIC=39793.850, Time=4.17 sec\n",
      " ARIMA(2,0,2)(1,0,0)[12] intercept   : AIC=39799.056, Time=14.18 sec\n",
      " ARIMA(2,0,2)(0,0,1)[12] intercept   : AIC=39798.884, Time=13.34 sec\n",
      " ARIMA(2,0,2)(1,0,1)[12] intercept   : AIC=inf, Time=15.13 sec\n",
      " ARIMA(3,0,2)(0,0,0)[12] intercept   : AIC=39800.717, Time=3.52 sec\n",
      " ARIMA(2,0,3)(0,0,0)[12] intercept   : AIC=39798.411, Time=2.16 sec\n",
      " ARIMA(1,0,3)(0,0,0)[12] intercept   : AIC=39798.455, Time=1.33 sec\n",
      " ARIMA(3,0,1)(0,0,0)[12] intercept   : AIC=39799.334, Time=1.74 sec\n",
      " ARIMA(3,0,3)(0,0,0)[12] intercept   : AIC=39797.779, Time=5.83 sec\n",
      " ARIMA(2,0,2)(0,0,0)[12]             : AIC=39795.504, Time=2.17 sec\n",
      "\n",
      "Best model:  ARIMA(2,0,2)(0,0,0)[12] intercept\n",
      "Total fit time: 195.725 seconds\n"
     ]
    }
   ],
   "source": [
    "from statsmodels.tsa.arima_model import ARIMA\n",
    "import pmdarima as pm\n",
    "smodel = pm.auto_arima(df4.Open,\n",
    "                      start_p=0,max_p=3, # Pacf(p) = 0,1,2,3\n",
    "                      d=0,max_d=2,       # Difference (d) = 0,1,2\n",
    "                      start_q=0,max_q=3, # acf (q) = 0,1,2,3\n",
    "                      m=12,              # frequency of series or time\n",
    "                      seasonal=True,     # Seasonality is True then below P,D,Q will be used \n",
    "                      start_P=0,max_P=2,\n",
    "                      D=0,max_D=1,\n",
    "                      start_Q=0,max_Q=2,\n",
    "                      test='adf',       # use adftest to find optimal 'd'\n",
    "                      trace=True)"
   ]
  },
  {
   "cell_type": "markdown",
   "id": "56073699",
   "metadata": {
    "id": "roKhl5hXPc3R"
   },
   "source": [
    "# Fitted Value"
   ]
  },
  {
   "cell_type": "code",
   "execution_count": 38,
   "id": "43d13d7c",
   "metadata": {},
   "outputs": [],
   "source": [
    "# Fitted Value"
   ]
  },
  {
   "cell_type": "code",
   "execution_count": 39,
   "id": "2fb1a6cb",
   "metadata": {},
   "outputs": [
    {
     "data": {
      "text/html": [
       "<div>\n",
       "<style scoped>\n",
       "    .dataframe tbody tr th:only-of-type {\n",
       "        vertical-align: middle;\n",
       "    }\n",
       "\n",
       "    .dataframe tbody tr th {\n",
       "        vertical-align: top;\n",
       "    }\n",
       "\n",
       "    .dataframe thead th {\n",
       "        text-align: right;\n",
       "    }\n",
       "</style>\n",
       "<table border=\"1\" class=\"dataframe\">\n",
       "  <thead>\n",
       "    <tr style=\"text-align: right;\">\n",
       "      <th></th>\n",
       "      <th>Date</th>\n",
       "      <th>Open</th>\n",
       "      <th>S_Forecast</th>\n",
       "    </tr>\n",
       "  </thead>\n",
       "  <tbody>\n",
       "    <tr>\n",
       "      <th>0</th>\n",
       "      <td>1999-11-01</td>\n",
       "      <td>80.00</td>\n",
       "      <td>164.189483</td>\n",
       "    </tr>\n",
       "    <tr>\n",
       "      <th>1</th>\n",
       "      <td>1999-11-02</td>\n",
       "      <td>78.00</td>\n",
       "      <td>80.190510</td>\n",
       "    </tr>\n",
       "    <tr>\n",
       "      <th>2</th>\n",
       "      <td>1999-11-03</td>\n",
       "      <td>81.62</td>\n",
       "      <td>78.238038</td>\n",
       "    </tr>\n",
       "    <tr>\n",
       "      <th>3</th>\n",
       "      <td>1999-11-04</td>\n",
       "      <td>82.06</td>\n",
       "      <td>81.706190</td>\n",
       "    </tr>\n",
       "    <tr>\n",
       "      <th>4</th>\n",
       "      <td>1999-11-05</td>\n",
       "      <td>84.62</td>\n",
       "      <td>82.263305</td>\n",
       "    </tr>\n",
       "    <tr>\n",
       "      <th>...</th>\n",
       "      <td>...</td>\n",
       "      <td>...</td>\n",
       "      <td>...</td>\n",
       "    </tr>\n",
       "    <tr>\n",
       "      <th>5281</th>\n",
       "      <td>2020-10-27</td>\n",
       "      <td>115.49</td>\n",
       "      <td>112.907799</td>\n",
       "    </tr>\n",
       "    <tr>\n",
       "      <th>5282</th>\n",
       "      <td>2020-10-28</td>\n",
       "      <td>115.05</td>\n",
       "      <td>116.800521</td>\n",
       "    </tr>\n",
       "    <tr>\n",
       "      <th>5283</th>\n",
       "      <td>2020-10-29</td>\n",
       "      <td>112.37</td>\n",
       "      <td>113.959954</td>\n",
       "    </tr>\n",
       "    <tr>\n",
       "      <th>5284</th>\n",
       "      <td>2020-10-30</td>\n",
       "      <td>111.06</td>\n",
       "      <td>113.732121</td>\n",
       "    </tr>\n",
       "    <tr>\n",
       "      <th>5285</th>\n",
       "      <td>2020-11-02</td>\n",
       "      <td>109.11</td>\n",
       "      <td>110.027240</td>\n",
       "    </tr>\n",
       "  </tbody>\n",
       "</table>\n",
       "<p>5286 rows × 3 columns</p>\n",
       "</div>"
      ],
      "text/plain": [
       "            Date    Open  S_Forecast\n",
       "0     1999-11-01   80.00  164.189483\n",
       "1     1999-11-02   78.00   80.190510\n",
       "2     1999-11-03   81.62   78.238038\n",
       "3     1999-11-04   82.06   81.706190\n",
       "4     1999-11-05   84.62   82.263305\n",
       "...          ...     ...         ...\n",
       "5281  2020-10-27  115.49  112.907799\n",
       "5282  2020-10-28  115.05  116.800521\n",
       "5283  2020-10-29  112.37  113.959954\n",
       "5284  2020-10-30  111.06  113.732121\n",
       "5285  2020-11-02  109.11  110.027240\n",
       "\n",
       "[5286 rows x 3 columns]"
      ]
     },
     "execution_count": 39,
     "metadata": {},
     "output_type": "execute_result"
    }
   ],
   "source": [
    "df4['S_Forecast']=smodel.predict_in_sample()\n",
    "df4.iloc[:,[0,1,5]]"
   ]
  },
  {
   "cell_type": "markdown",
   "id": "ac0ceaab",
   "metadata": {
    "id": "263FPvPmPc3R"
   },
   "source": [
    "# Model plot"
   ]
  },
  {
   "cell_type": "code",
   "execution_count": 40,
   "id": "5f57bde7",
   "metadata": {},
   "outputs": [
    {
     "data": {
      "image/png": "[encoded data removed]",
      "text/plain": [
       "<Figure size 640x480 with 1 Axes>"
      ]
     },
     "metadata": {},
     "output_type": "display_data"
    }
   ],
   "source": [
    "# Plot\n",
    "plt.plot(df4.Open)\n",
    "plt.plot(df4.S_Forecast, color='darkgreen')\n",
    "plt.title(\"Actual vs Forecast fitted value\")\n",
    "plt.show()"
   ]
  },
  {
   "cell_type": "markdown",
   "id": "caec2a38",
   "metadata": {
    "id": "H5n-jhFFPc3S"
   },
   "source": [
    "# Accuracy metrics\n"
   ]
  },
  {
   "cell_type": "code",
   "execution_count": 41,
   "id": "a9dd0e26",
   "metadata": {},
   "outputs": [
    {
     "data": {
      "text/plain": [
       "{'mape': 2.090152618638231}"
      ]
     },
     "execution_count": 41,
     "metadata": {},
     "output_type": "execute_result"
    }
   ],
   "source": [
    "def forecast_accuracy(actual,forecast):\n",
    "    mape = (np.mean(np.abs(actual-forecast)/np.abs(actual)))*100  # MAPE\n",
    "    return({'mape':mape})\n",
    "\n",
    "forecast_accuracy(df4.Open,df4.S_Forecast)"
   ]
  },
  {
   "cell_type": "markdown",
   "id": "aac852d2",
   "metadata": {
    "id": "c1GKEqnqPc3S"
   },
   "source": [
    "#  Forecast\n"
   ]
  },
  {
   "cell_type": "code",
   "execution_count": 42,
   "id": "845a1906",
   "metadata": {},
   "outputs": [
    {
     "data": {
      "image/png": "[encoded data removed]",
      "text/plain": [
       "<Figure size 640x480 with 1 Axes>"
      ]
     },
     "metadata": {},
     "output_type": "display_data"
    }
   ],
   "source": [
    "n_periods=29\n",
    "future_Forecast = smodel.predict(n_periods=n_periods)\n",
    "index_of_future_Forecast = np.arange(len(df4.Open), len(df4.Open)+n_periods)\n",
    "\n",
    "# make series for plotting purpose\n",
    "fc_series = pd.Series(future_Forecast, index=index_of_future_Forecast)\n",
    "\n",
    "# Plot\n",
    "plt.plot(df4.Open)\n",
    "plt.plot(fc_series, color='darkgreen')\n",
    "plt.title(\"Forecast Next 29 Month\")\n",
    "plt.show()# Finished"
   ]
  },
  {
   "cell_type": "markdown",
   "id": "b67fc766",
   "metadata": {
    "id": "Ayq10VbgPc3T"
   },
   "source": [
    "# Finished"
   ]
  },
  {
   "cell_type": "code",
   "execution_count": 43,
   "id": "1ab31e05",
   "metadata": {},
   "outputs": [
    {
     "data": {
      "text/plain": [
       "5286    110.431812\n",
       "5287    109.375200\n",
       "5288    110.654433\n",
       "5289    109.623024\n",
       "5290    110.876317\n",
       "5291    109.869549\n",
       "5292    111.097461\n",
       "5293    110.114786\n",
       "5294    111.317864\n",
       "5295    110.358746\n",
       "5296    111.537524\n",
       "5297    110.601438\n",
       "5298    111.756440\n",
       "5299    110.842873\n",
       "5300    111.974611\n",
       "5301    111.083060\n",
       "5302    112.192034\n",
       "5303    111.322010\n",
       "5304    112.408709\n",
       "5305    111.559732\n",
       "5306    112.624636\n",
       "5307    111.796236\n",
       "5308    112.839813\n",
       "5309    112.031530\n",
       "5310    113.054239\n",
       "5311    112.265625\n",
       "5312    113.267913\n",
       "5313    112.498530\n",
       "5314    113.480836\n",
       "dtype: float64"
      ]
     },
     "execution_count": 43,
     "metadata": {},
     "output_type": "execute_result"
    }
   ],
   "source": [
    "future_Forecast"
   ]
  },
  {
   "cell_type": "code",
   "execution_count": null,
   "id": "41682dd3",
   "metadata": {},
   "outputs": [],
   "source": []
  },
  {
   "cell_type": "code",
   "execution_count": null,
   "id": "68c53fd1",
   "metadata": {},
   "outputs": [],
   "source": []
  },
  {
   "cell_type": "code",
   "execution_count": null,
   "id": "e3f34993",
   "metadata": {},
   "outputs": [],
   "source": []
  },
  {
   "cell_type": "code",
   "execution_count": null,
   "id": "b5738f5a",
   "metadata": {},
   "outputs": [],
   "source": []
  },
  {
   "cell_type": "code",
   "execution_count": null,
   "id": "5742ef9c",
   "metadata": {},
   "outputs": [],
   "source": []
  },
  {
   "cell_type": "code",
   "execution_count": null,
   "id": "9ee7d9bc",
   "metadata": {},
   "outputs": [],
   "source": []
  },
  {
   "cell_type": "code",
   "execution_count": null,
   "id": "3a4b63a9",
   "metadata": {},
   "outputs": [],
   "source": []
  },
  {
   "cell_type": "code",
   "execution_count": null,
   "id": "f319de24",
   "metadata": {},
   "outputs": [],
   "source": []
  },
  {
   "cell_type": "code",
   "execution_count": null,
   "id": "90d430a8",
   "metadata": {},
   "outputs": [],
   "source": []
  }
 ],
 "metadata": {
  "kernelspec": {
   "display_name": "Python 3 (ipykernel)",
   "language": "python",
   "name": "python3"
  },
  "language_info": {
   "codemirror_mode": {
    "name": "ipython",
    "version": 3
   },
   "file_extension": ".py",
   "mimetype": "text/x-python",
   "name": "python",
   "nbconvert_exporter": "python",
   "pygments_lexer": "ipython3",
   "version": "3.9.13"
  }
 },
 "nbformat": 4,
 "nbformat_minor": 5
}
